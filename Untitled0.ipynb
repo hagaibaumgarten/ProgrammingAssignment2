{
  "nbformat": 4,
  "nbformat_minor": 0,
  "metadata": {
    "colab": {
      "name": "Untitled0.ipynb",
      "provenance": [],
      "collapsed_sections": [],
      "include_colab_link": true
    },
    "kernelspec": {
      "name": "python3",
      "display_name": "Python 3"
    }
  },
  "cells": [
    {
      "cell_type": "markdown",
      "metadata": {
        "id": "view-in-github",
        "colab_type": "text"
      },
      "source": [
        "<a href=\"https://colab.research.google.com/github/hagaibaumgarten/ProgrammingAssignment2/blob/master/Untitled0.ipynb\" target=\"_parent\"><img src=\"https://colab.research.google.com/assets/colab-badge.svg\" alt=\"Open In Colab\"/></a>"
      ]
    },
    {
      "cell_type": "code",
      "metadata": {
        "id": "AuCTkDuU86ts",
        "colab_type": "code",
        "colab": {}
      },
      "source": [
        "https://norvig.com/spell-correct.html\n",
        "\n",
        "Programming project:\n",
        "Characterize (from pasted data in txt file)\n",
        "Includes:\n",
        "Create a class\n",
        "Open file\n",
        "Datetime\n",
        "Functions\n",
        "Single line (lambda function etc.)\n",
        "Use comments \n",
        "Correct names for variables to make code readable\n",
        "Use all the tools that we learnt\n",
        "What would we do if we had more tools (like visualization)\n"
      ],
      "execution_count": 0,
      "outputs": []
    },
    {
      "cell_type": "markdown",
      "metadata": {
        "id": "kXwjvfO_99b6",
        "colab_type": "text"
      },
      "source": [
        "Python items to be used:\n",
        "Nested loop\n",
        "Data exploration\n",
        "String literals (/n)\n",
        "Index from list\n",
        "append(), insert() & extend()\n",
        "pop() & remove()\n",
        "join() and split()\n",
        "s.split([sep]) \n",
        "String: sep.join(lst) \n",
        "Tuple\n",
        "Tuple unpacking\n",
        "Dictionaries\n",
        "keys(), values() & items()\n",
        "If, elif, else, nested if, \n",
        "While\n",
        "list comprehension\n",
        "input()\n",
        "String formatting\n",
        "F formatting\n",
        "Formatting specifications\n",
        "Functions (def)\n",
        "Return\n",
        "Arguments\n",
        "Lambda functions\n",
        "Built in functions:\n",
        "General utility: map(), zip(), sorted(), all(), any(), enumerate(), filter(), etc.\n",
        "Conversion: int(), str(), list(), dict(), unicode(), etc.\n",
        "Math: abs(), min(), max(), sum(), etc.\n",
        "Object-Oriented: isinstance(), hasattr(), delattr(), classmethod(), etc.\n",
        "Class\n",
        "Instantiation, methods\n",
        "Files\n",
        "Open\n",
        "With block\n",
        "For loop\n",
        "datetime\n",
        "import\n",
        "Regex\n"
      ]
    },
    {
      "cell_type": "markdown",
      "metadata": {
        "id": "-4P_fSkm-C_v",
        "colab_type": "text"
      },
      "source": [
        ""
      ]
    }
  ]
}